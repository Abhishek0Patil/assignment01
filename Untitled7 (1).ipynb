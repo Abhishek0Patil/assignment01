{
 "cells": [
  {
   "cell_type": "markdown",
   "id": "176f6ec8-4751-4bcd-93e2-fdcc68d73f24",
   "metadata": {},
   "source": [
    "a for loop is used when you know the loop should execute n times without checking any condition."
   ]
  },
  {
   "cell_type": "code",
   "execution_count": null,
   "id": "ae90fc0f-27ab-4603-968b-2e2b6859cebe",
   "metadata": {},
   "outputs": [],
   "source": [
    "eg :"
   ]
  },
  {
   "cell_type": "code",
   "execution_count": 3,
   "id": "dc3bf39e-f497-44a5-af33-9ab09ef666cb",
   "metadata": {},
   "outputs": [],
   "source": [
    "n=[1,2,3,4,5]"
   ]
  },
  {
   "cell_type": "code",
   "execution_count": 4,
   "id": "29e78265-0b68-44a9-8359-62feffec0aeb",
   "metadata": {},
   "outputs": [
    {
     "name": "stdout",
     "output_type": "stream",
     "text": [
      "1\n",
      "2\n",
      "3\n",
      "4\n",
      "5\n"
     ]
    }
   ],
   "source": [
    "for i in n :\n",
    "    print(i)"
   ]
  },
  {
   "cell_type": "markdown",
   "id": "c157c17e-299a-4c3e-b191-e6a947d7ea8d",
   "metadata": {},
   "source": [
    "a while loop is used to execute a set of instruction until a condition is met."
   ]
  },
  {
   "cell_type": "code",
   "execution_count": null,
   "id": "fbcdd2ec-596f-4fd8-a5a7-cd36cb7f122d",
   "metadata": {},
   "outputs": [],
   "source": [
    "eg :"
   ]
  },
  {
   "cell_type": "code",
   "execution_count": 1,
   "id": "424d69ff-d686-43b7-bdcd-032b925bd71c",
   "metadata": {},
   "outputs": [
    {
     "name": "stdout",
     "output_type": "stream",
     "text": [
      "1\n",
      "2\n",
      "3\n",
      "4\n",
      "5\n"
     ]
    }
   ],
   "source": [
    "i=1\n",
    "while i<6:\n",
    "    print(i)\n",
    "    i=i+1"
   ]
  },
  {
   "cell_type": "code",
   "execution_count": 27,
   "id": "17abb19d-acaa-41b3-855f-b4454fd68e05",
   "metadata": {},
   "outputs": [
    {
     "name": "stdout",
     "output_type": "stream",
     "text": [
      "55\n",
      "3628800\n"
     ]
    }
   ],
   "source": [
    "result=0\n",
    "product=1\n",
    "for i in range(1,11) :\n",
    "        result =result +i\n",
    "        product=product*i\n",
    "print(result)\n",
    "print(product)"
   ]
  },
  {
   "cell_type": "code",
   "execution_count": 5,
   "id": "1c086105-9890-467e-ab88-2f4165aa82b4",
   "metadata": {},
   "outputs": [
    {
     "name": "stdout",
     "output_type": "stream",
     "text": [
      "55\n",
      "3628800\n"
     ]
    }
   ],
   "source": [
    "result=0\n",
    "product=1\n",
    "i=1\n",
    "while i <=10 :\n",
    "    result=result+i\n",
    "    product=product*i\n",
    "    i=i+1\n",
    "print(result)\n",
    "print(product)"
   ]
  },
  {
   "cell_type": "code",
   "execution_count": 9,
   "id": "b64b6b97-c148-452c-8455-5057153f4fe4",
   "metadata": {},
   "outputs": [
    {
     "name": "stdin",
     "output_type": "stream",
     "text": [
      "enter the electricity consumed per month 310\n"
     ]
    },
    {
     "name": "stdout",
     "output_type": "stream",
     "text": [
      "electricitybill = 2250.0\n"
     ]
    }
   ],
   "source": [
    "units=int(input(\"enter the electricity consumed per month\"))\n",
    "electricitybill=0\n",
    "if units <= 100 :\n",
    "    print(\"electricitybill =\",units*4.5)\n",
    "elif units >100 and units<=200 :\n",
    "    print(\"electricitybill =\",(100*4.5)+((units-100)*6))\n",
    "elif units >200 and units<=300 :\n",
    "    print(\"electricitybill =\",(100*4.5)+(100*6)+((units-200)*10))\n",
    "else :\n",
    "    print(\"electricitybill =\",(100*4.5)+(100*6)+(100*10)+((units-300)*20 ))  "
   ]
  },
  {
   "cell_type": "code",
   "execution_count": 6,
   "id": "6b66dfba-edab-4420-8363-850d2a034774",
   "metadata": {},
   "outputs": [
    {
     "name": "stdout",
     "output_type": "stream",
     "text": [
      "8\n",
      "64\n",
      "125\n",
      "216\n",
      "125\n",
      "216\n",
      "216\n",
      "512\n",
      "1000\n",
      "1728\n",
      "2744\n",
      "3375\n",
      "4096\n",
      "3375\n",
      "4096\n",
      "4096\n",
      "5832\n",
      "8000\n",
      "10648\n",
      "13824\n",
      "15625\n",
      "17576\n",
      "15625\n",
      "17576\n",
      "17576\n",
      "21952\n",
      "27000\n",
      "32768\n",
      "39304\n",
      "42875\n",
      "46656\n",
      "42875\n",
      "46656\n",
      "46656\n",
      "54872\n",
      "64000\n",
      "74088\n",
      "85184\n",
      "91125\n",
      "97336\n",
      "91125\n",
      "97336\n",
      "97336\n",
      "110592\n",
      "125000\n",
      "140608\n",
      "157464\n",
      "166375\n",
      "175616\n",
      "166375\n",
      "175616\n",
      "175616\n",
      "195112\n",
      "216000\n",
      "238328\n",
      "262144\n",
      "274625\n",
      "287496\n",
      "274625\n",
      "287496\n",
      "287496\n",
      "314432\n",
      "343000\n",
      "373248\n",
      "405224\n",
      "421875\n",
      "438976\n",
      "421875\n",
      "438976\n",
      "438976\n",
      "474552\n",
      "512000\n",
      "551368\n",
      "592704\n",
      "614125\n",
      "636056\n",
      "614125\n",
      "636056\n",
      "636056\n",
      "681472\n",
      "729000\n",
      "778688\n",
      "830584\n",
      "857375\n",
      "884736\n",
      "857375\n",
      "884736\n",
      "884736\n",
      "941192\n",
      "1000000\n"
     ]
    }
   ],
   "source": [
    "for i in range(1,101) :\n",
    "    while i<=100 :\n",
    "        cubeno=0\n",
    "        cubeno=i*i*i\n",
    "        if(cubeno%4==0):\n",
    "            print(cubeno)\n",
    "        elif(cubeno%5==0):\n",
    "            print(cubeno)\n",
    "        else :\n",
    "            break\n",
    "        i=i+1"
   ]
  },
  {
   "cell_type": "code",
   "execution_count": 7,
   "id": "8be1c03c-eb78-4a3a-b3a0-06fe60fe1d8e",
   "metadata": {},
   "outputs": [
    {
     "name": "stdout",
     "output_type": "stream",
     "text": [
      "12\n"
     ]
    }
   ],
   "source": [
    "def isVowel(ch):\n",
    "    return ch.upper() in ['A', 'E', 'I', 'O', 'U']\n",
    "def countVowels(str):\n",
    "    count = 0\n",
    "    for i in range(len(str)):\n",
    "         if isVowel(str[i]):\n",
    "            count += 1\n",
    "    return count\n",
    "str =  \"I want to become a data scientist\"\n",
    "print(countVowels(str))\n",
    " "
   ]
  },
  {
   "cell_type": "code",
   "execution_count": null,
   "id": "967cf2be-3c5f-4879-91f6-895da2b5d1dc",
   "metadata": {},
   "outputs": [],
   "source": [
    " "
   ]
  }
 ],
 "metadata": {
  "kernelspec": {
   "display_name": "Python 3 (ipykernel)",
   "language": "python",
   "name": "python3"
  },
  "language_info": {
   "codemirror_mode": {
    "name": "ipython",
    "version": 3
   },
   "file_extension": ".py",
   "mimetype": "text/x-python",
   "name": "python",
   "nbconvert_exporter": "python",
   "pygments_lexer": "ipython3",
   "version": "3.10.8"
  }
 },
 "nbformat": 4,
 "nbformat_minor": 5
}
